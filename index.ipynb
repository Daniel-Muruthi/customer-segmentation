{
 "cells": [
  {
   "cell_type": "markdown",
   "id": "1f43f454-8b41-48aa-b5ba-13c295bcf2de",
   "metadata": {},
   "source": [
    "# CUSTOMER SEGMENTATION"
   ]
  },
  {
   "cell_type": "markdown",
   "id": "fcf7e9be-0370-4526-82b2-ea6df8f404d7",
   "metadata": {},
   "source": [
    "### The aim is to group customers based on purchasing behavior for tasks like marketing or personalization.\n",
    "### I will be conducting an RFM analysis\n",
    "### R - Recency - How recent a customer made a pruchase\n",
    "### F - Frequency - How often a customer makes purchases\n",
    "### M - Monetary - How much a customer spends"
   ]
  },
  {
   "cell_type": "code",
   "execution_count": 1,
   "id": "1265dada-3fc5-4526-ad7f-d6959cd4a7d0",
   "metadata": {},
   "outputs": [],
   "source": [
    "# Imports\n",
    "\n",
    "import pandas as pd\n",
    "import numpy as np\n",
    "import seaborn as sns\n",
    "import matplotlib.pyplot as plt\n",
    "from matplotlib.ticker import LogLocator\n",
    "from datetime import datetime\n",
    "import joblib"
   ]
  },
  {
   "cell_type": "code",
   "execution_count": 2,
   "id": "4adfe672-704e-449f-8fa8-25518bef612f",
   "metadata": {},
   "outputs": [
    {
     "data": {
      "text/html": [
       "<div>\n",
       "<style scoped>\n",
       "    .dataframe tbody tr th:only-of-type {\n",
       "        vertical-align: middle;\n",
       "    }\n",
       "\n",
       "    .dataframe tbody tr th {\n",
       "        vertical-align: top;\n",
       "    }\n",
       "\n",
       "    .dataframe thead th {\n",
       "        text-align: right;\n",
       "    }\n",
       "</style>\n",
       "<table border=\"1\" class=\"dataframe\">\n",
       "  <thead>\n",
       "    <tr style=\"text-align: right;\">\n",
       "      <th></th>\n",
       "      <th>InvoiceNo</th>\n",
       "      <th>StockCode</th>\n",
       "      <th>Description</th>\n",
       "      <th>Quantity</th>\n",
       "      <th>InvoiceDate</th>\n",
       "      <th>UnitPrice</th>\n",
       "      <th>CustomerID</th>\n",
       "      <th>Country</th>\n",
       "    </tr>\n",
       "  </thead>\n",
       "  <tbody>\n",
       "    <tr>\n",
       "      <th>0</th>\n",
       "      <td>536365</td>\n",
       "      <td>85123A</td>\n",
       "      <td>WHITE HANGING HEART T-LIGHT HOLDER</td>\n",
       "      <td>6</td>\n",
       "      <td>2010-12-01 08:26:00</td>\n",
       "      <td>2.55</td>\n",
       "      <td>17850.0</td>\n",
       "      <td>United Kingdom</td>\n",
       "    </tr>\n",
       "    <tr>\n",
       "      <th>1</th>\n",
       "      <td>536365</td>\n",
       "      <td>71053</td>\n",
       "      <td>WHITE METAL LANTERN</td>\n",
       "      <td>6</td>\n",
       "      <td>2010-12-01 08:26:00</td>\n",
       "      <td>3.39</td>\n",
       "      <td>17850.0</td>\n",
       "      <td>United Kingdom</td>\n",
       "    </tr>\n",
       "    <tr>\n",
       "      <th>2</th>\n",
       "      <td>536365</td>\n",
       "      <td>84406B</td>\n",
       "      <td>CREAM CUPID HEARTS COAT HANGER</td>\n",
       "      <td>8</td>\n",
       "      <td>2010-12-01 08:26:00</td>\n",
       "      <td>2.75</td>\n",
       "      <td>17850.0</td>\n",
       "      <td>United Kingdom</td>\n",
       "    </tr>\n",
       "    <tr>\n",
       "      <th>3</th>\n",
       "      <td>536365</td>\n",
       "      <td>84029G</td>\n",
       "      <td>KNITTED UNION FLAG HOT WATER BOTTLE</td>\n",
       "      <td>6</td>\n",
       "      <td>2010-12-01 08:26:00</td>\n",
       "      <td>3.39</td>\n",
       "      <td>17850.0</td>\n",
       "      <td>United Kingdom</td>\n",
       "    </tr>\n",
       "    <tr>\n",
       "      <th>4</th>\n",
       "      <td>536365</td>\n",
       "      <td>84029E</td>\n",
       "      <td>RED WOOLLY HOTTIE WHITE HEART.</td>\n",
       "      <td>6</td>\n",
       "      <td>2010-12-01 08:26:00</td>\n",
       "      <td>3.39</td>\n",
       "      <td>17850.0</td>\n",
       "      <td>United Kingdom</td>\n",
       "    </tr>\n",
       "  </tbody>\n",
       "</table>\n",
       "</div>"
      ],
      "text/plain": [
       "  InvoiceNo StockCode                          Description  Quantity  \\\n",
       "0    536365    85123A   WHITE HANGING HEART T-LIGHT HOLDER         6   \n",
       "1    536365     71053                  WHITE METAL LANTERN         6   \n",
       "2    536365    84406B       CREAM CUPID HEARTS COAT HANGER         8   \n",
       "3    536365    84029G  KNITTED UNION FLAG HOT WATER BOTTLE         6   \n",
       "4    536365    84029E       RED WOOLLY HOTTIE WHITE HEART.         6   \n",
       "\n",
       "          InvoiceDate  UnitPrice  CustomerID         Country  \n",
       "0 2010-12-01 08:26:00       2.55     17850.0  United Kingdom  \n",
       "1 2010-12-01 08:26:00       3.39     17850.0  United Kingdom  \n",
       "2 2010-12-01 08:26:00       2.75     17850.0  United Kingdom  \n",
       "3 2010-12-01 08:26:00       3.39     17850.0  United Kingdom  \n",
       "4 2010-12-01 08:26:00       3.39     17850.0  United Kingdom  "
      ]
     },
     "execution_count": 2,
     "metadata": {},
     "output_type": "execute_result"
    }
   ],
   "source": [
    "# Creating dataframe from first dataset\n",
    "\n",
    "df1 = pd.read_excel(\"online_retail.xlsx\")\n",
    "df1.head()"
   ]
  },
  {
   "cell_type": "code",
   "execution_count": 3,
   "id": "ca047985-b272-4fa5-8ba8-9714c97417b4",
   "metadata": {},
   "outputs": [
    {
     "data": {
      "text/html": [
       "<div>\n",
       "<style scoped>\n",
       "    .dataframe tbody tr th:only-of-type {\n",
       "        vertical-align: middle;\n",
       "    }\n",
       "\n",
       "    .dataframe tbody tr th {\n",
       "        vertical-align: top;\n",
       "    }\n",
       "\n",
       "    .dataframe thead th {\n",
       "        text-align: right;\n",
       "    }\n",
       "</style>\n",
       "<table border=\"1\" class=\"dataframe\">\n",
       "  <thead>\n",
       "    <tr style=\"text-align: right;\">\n",
       "      <th></th>\n",
       "      <th>InvoiceNo</th>\n",
       "      <th>StockCode</th>\n",
       "      <th>Description</th>\n",
       "      <th>Quantity</th>\n",
       "      <th>InvoiceDate</th>\n",
       "      <th>UnitPrice</th>\n",
       "      <th>CustomerID</th>\n",
       "      <th>Country</th>\n",
       "    </tr>\n",
       "  </thead>\n",
       "  <tbody>\n",
       "    <tr>\n",
       "      <th>541904</th>\n",
       "      <td>581587</td>\n",
       "      <td>22613</td>\n",
       "      <td>PACK OF 20 SPACEBOY NAPKINS</td>\n",
       "      <td>12</td>\n",
       "      <td>2011-12-09 12:50:00</td>\n",
       "      <td>0.85</td>\n",
       "      <td>12680.0</td>\n",
       "      <td>France</td>\n",
       "    </tr>\n",
       "    <tr>\n",
       "      <th>541905</th>\n",
       "      <td>581587</td>\n",
       "      <td>22899</td>\n",
       "      <td>CHILDREN'S APRON DOLLY GIRL</td>\n",
       "      <td>6</td>\n",
       "      <td>2011-12-09 12:50:00</td>\n",
       "      <td>2.10</td>\n",
       "      <td>12680.0</td>\n",
       "      <td>France</td>\n",
       "    </tr>\n",
       "    <tr>\n",
       "      <th>541906</th>\n",
       "      <td>581587</td>\n",
       "      <td>23254</td>\n",
       "      <td>CHILDRENS CUTLERY DOLLY GIRL</td>\n",
       "      <td>4</td>\n",
       "      <td>2011-12-09 12:50:00</td>\n",
       "      <td>4.15</td>\n",
       "      <td>12680.0</td>\n",
       "      <td>France</td>\n",
       "    </tr>\n",
       "    <tr>\n",
       "      <th>541907</th>\n",
       "      <td>581587</td>\n",
       "      <td>23255</td>\n",
       "      <td>CHILDRENS CUTLERY CIRCUS PARADE</td>\n",
       "      <td>4</td>\n",
       "      <td>2011-12-09 12:50:00</td>\n",
       "      <td>4.15</td>\n",
       "      <td>12680.0</td>\n",
       "      <td>France</td>\n",
       "    </tr>\n",
       "    <tr>\n",
       "      <th>541908</th>\n",
       "      <td>581587</td>\n",
       "      <td>22138</td>\n",
       "      <td>BAKING SET 9 PIECE RETROSPOT</td>\n",
       "      <td>3</td>\n",
       "      <td>2011-12-09 12:50:00</td>\n",
       "      <td>4.95</td>\n",
       "      <td>12680.0</td>\n",
       "      <td>France</td>\n",
       "    </tr>\n",
       "  </tbody>\n",
       "</table>\n",
       "</div>"
      ],
      "text/plain": [
       "       InvoiceNo StockCode                      Description  Quantity  \\\n",
       "541904    581587     22613      PACK OF 20 SPACEBOY NAPKINS        12   \n",
       "541905    581587     22899     CHILDREN'S APRON DOLLY GIRL          6   \n",
       "541906    581587     23254    CHILDRENS CUTLERY DOLLY GIRL          4   \n",
       "541907    581587     23255  CHILDRENS CUTLERY CIRCUS PARADE         4   \n",
       "541908    581587     22138    BAKING SET 9 PIECE RETROSPOT          3   \n",
       "\n",
       "               InvoiceDate  UnitPrice  CustomerID Country  \n",
       "541904 2011-12-09 12:50:00       0.85     12680.0  France  \n",
       "541905 2011-12-09 12:50:00       2.10     12680.0  France  \n",
       "541906 2011-12-09 12:50:00       4.15     12680.0  France  \n",
       "541907 2011-12-09 12:50:00       4.15     12680.0  France  \n",
       "541908 2011-12-09 12:50:00       4.95     12680.0  France  "
      ]
     },
     "execution_count": 3,
     "metadata": {},
     "output_type": "execute_result"
    }
   ],
   "source": [
    "df1.tail()"
   ]
  },
  {
   "cell_type": "code",
   "execution_count": null,
   "id": "48209976-f19f-4815-b188-6750ac3188db",
   "metadata": {},
   "outputs": [],
   "source": [
    "# Creating dataframe from second dataset\n",
    "\n",
    "df2 = pd.read_excel(\"online_retail_II.xlsx\")\n",
    "df2.head()"
   ]
  },
  {
   "cell_type": "code",
   "execution_count": null,
   "id": "7d202c67-e679-40be-8fb1-612925bc609f",
   "metadata": {},
   "outputs": [],
   "source": [
    "df2.tail()"
   ]
  },
  {
   "cell_type": "code",
   "execution_count": null,
   "id": "fd05a2f4-afc8-4018-841a-e0a07765a7b0",
   "metadata": {},
   "outputs": [],
   "source": [
    "df1.info()"
   ]
  },
  {
   "cell_type": "code",
   "execution_count": null,
   "id": "490758a2-6ef9-4390-98d3-e3ebfa0efe04",
   "metadata": {},
   "outputs": [],
   "source": [
    "df2.info()"
   ]
  },
  {
   "cell_type": "markdown",
   "id": "9febc977-180a-4cf5-949a-c7571ab113cc",
   "metadata": {},
   "source": [
    "#### Both dataframes share the same features, datatypes of features are similar as well however there are 3 feature names that are not uniform in both dataframes i.e., `InvoiceNo` as `Invoice`, `UnitPrice` as `Price` and `CustomerID` as `Customer ID` in df1 and df2 respectively"
   ]
  },
  {
   "cell_type": "markdown",
   "id": "a45219ed-4567-419f-b1f3-b01f6b00b503",
   "metadata": {},
   "source": [
    "### Renaming features/column names"
   ]
  },
  {
   "cell_type": "code",
   "execution_count": null,
   "id": "18048b61-403c-447b-a1b0-07dfa0330f59",
   "metadata": {},
   "outputs": [],
   "source": [
    "# Renaming column names in df2\n",
    "\n",
    "df2.rename(columns={\n",
    "    \"Invoice\":\"InvoiceNo\",\n",
    "    \"Price\":\"UnitPrice\",\n",
    "    \"Customer ID\":\"CustomerID\"\n",
    "}, inplace=True)"
   ]
  },
  {
   "cell_type": "code",
   "execution_count": null,
   "id": "34134446-9bda-4fe7-a539-5a24e2d704be",
   "metadata": {},
   "outputs": [],
   "source": [
    "# Checking to see if column names have changed\n",
    "\n",
    "df2.columns"
   ]
  },
  {
   "cell_type": "code",
   "execution_count": null,
   "id": "fa3e63bc-a0fb-480d-9d7a-195cf677d39a",
   "metadata": {},
   "outputs": [],
   "source": [
    "# Concantenate the two dataframes into one dataframe\n",
    "\n",
    "df = pd.concat([df1,df2], ignore_index=True)\n",
    "df.shape"
   ]
  },
  {
   "cell_type": "code",
   "execution_count": null,
   "id": "5ab6c1c6-b2fd-41dc-9999-d9ebfa2a1598",
   "metadata": {},
   "outputs": [],
   "source": [
    "# Checking for missing values\n",
    "\n",
    "df.isna().sum()"
   ]
  },
  {
   "cell_type": "code",
   "execution_count": null,
   "id": "c067d3c5-d75b-4cfb-b498-c57244aa78c4",
   "metadata": {},
   "outputs": [],
   "source": [
    "df.info()"
   ]
  },
  {
   "cell_type": "code",
   "execution_count": null,
   "id": "206aa0b1-396d-4ffa-a477-3122ef73bffb",
   "metadata": {},
   "outputs": [],
   "source": [
    "null_df = df[df[\"CustomerID\"].isna() == True]\n",
    "null_df.head(10)"
   ]
  },
  {
   "cell_type": "code",
   "execution_count": null,
   "id": "d62b8e64-5a39-47ff-b8cd-665442bca6bb",
   "metadata": {},
   "outputs": [],
   "source": [
    "unique_years = df['InvoiceDate'].dt.year.unique()\n",
    "print(sorted(unique_years))"
   ]
  },
  {
   "cell_type": "markdown",
   "id": "ba5ab6b2-382f-4347-8815-d00de60d3bbe",
   "metadata": {},
   "source": [
    "## Data Cleaning"
   ]
  },
  {
   "cell_type": "markdown",
   "id": "5150020e-7a64-457e-8fb2-03cdfc23d5ca",
   "metadata": {},
   "source": [
    "### Handle Missing Values:\n",
    "\n",
    "#### -> CustomerID has missing values, which are essential for customer-based segmentation. I'll drop rows where CustomerID is missing.\n",
    "#### -> Description also has missing values but its not critical for segmentation and can be ignored for now.\n",
    "\n",
    "### Remove Negative Quantities:\n",
    "\n",
    "#### -> Negative quantities likely indicate returns. We'll remove them for now.\n",
    "\n",
    "### Create New Features:\n",
    "\n",
    "#### -> Total revenue per row: TotalPrice = Quantity * UnitPrice\n",
    "\n",
    "### Dropping Columns based on Domain knowledge\n",
    "\n",
    "#### -> The Description column does not provide customer-level behavior insights directly relevant for segmentation."
   ]
  },
  {
   "cell_type": "code",
   "execution_count": null,
   "id": "e592e94a-4dfd-4d3e-b885-7e669f0787bd",
   "metadata": {},
   "outputs": [],
   "source": [
    "# Checking for True Duplicates\n",
    "\n",
    "len(df[df.duplicated(keep=False)])"
   ]
  },
  {
   "cell_type": "code",
   "execution_count": null,
   "id": "ac34eff2-7069-448b-ac62-a0092137d42f",
   "metadata": {},
   "outputs": [],
   "source": [
    "def wrangle(df):\n",
    "    # 1. Sort by InvoiceDate\n",
    "    df = df.sort_values(\"InvoiceDate\").reset_index(drop=True)\n",
    "\n",
    "    # 2. Drop rows with null values in CustomerID\n",
    "    df = df.dropna(subset=[\"CustomerID\"])\n",
    "\n",
    "    # 3. Remove negative quantities\n",
    "    df = df[df[\"Quantity\"] > 0]\n",
    "\n",
    "    # 4. Convert CustomerID to int for clarity\n",
    "    df[\"CustomerID\"] = df[\"CustomerID\"].astype(int)\n",
    "\n",
    "    # 5. Create a new feature for total revenue per row\n",
    "    df[\"TotalPrice\"] = df[\"UnitPrice\"] * df[\"Quantity\"]\n",
    "\n",
    "    # 6. Drop the Description column\n",
    "    df = df.drop(columns=[\"Description\"])\n",
    "\n",
    "    # 7. Remove duplicate rows\n",
    "    df = df.drop_duplicates()\n",
    "\n",
    "    return df\n"
   ]
  },
  {
   "cell_type": "code",
   "execution_count": null,
   "id": "e8ebe622-1d17-4489-9eae-15a84e20bc4b",
   "metadata": {},
   "outputs": [],
   "source": [
    "df = wrangle(df)\n",
    "df.isna().sum()"
   ]
  },
  {
   "cell_type": "code",
   "execution_count": null,
   "id": "b6f68d76-9306-42af-a28d-162ac6aa6b6f",
   "metadata": {},
   "outputs": [],
   "source": [
    "df.info()"
   ]
  },
  {
   "cell_type": "code",
   "execution_count": null,
   "id": "f26896bd-4844-440f-a5ff-6004104d76ef",
   "metadata": {},
   "outputs": [],
   "source": [
    "df.head()"
   ]
  },
  {
   "cell_type": "markdown",
   "id": "ffb66ab4-7c34-4f54-afde-0de9cbb41a96",
   "metadata": {},
   "source": [
    "### Group Transactions By Customer"
   ]
  },
  {
   "cell_type": "code",
   "execution_count": null,
   "id": "b541b924-7c7e-4c79-bb5d-d7e8a82b932b",
   "metadata": {},
   "outputs": [],
   "source": [
    "customer_data = df.groupby(\"CustomerID\").agg({\n",
    "    'InvoiceNo':'nunique', # Frequency: number of transactions\n",
    "    'TotalPrice':'sum',    # Monetary: total money spent\n",
    "    'InvoiceDate':'max'    # Recency: Last Purchase Date\n",
    "}).reset_index()\n",
    "\n",
    "customer_data.rename(columns={\n",
    "    'InvoiceNo':'Frequency',\n",
    "    'TotalPrice':'Monetary',\n",
    "    'InvoiceDate':'LastPurchaseDate'\n",
    "}, inplace=True)\n",
    "\n",
    "customer_data.head()"
   ]
  },
  {
   "cell_type": "markdown",
   "id": "790361ab-7652-4ecd-8a8b-05228fe2c1a1",
   "metadata": {},
   "source": [
    "## Exploratory Data Analysis (EDA)"
   ]
  },
  {
   "cell_type": "markdown",
   "id": "794330db-63de-4862-938d-1df2a8d274b4",
   "metadata": {},
   "source": [
    "### 1. Frequency of Transactions"
   ]
  },
  {
   "cell_type": "code",
   "execution_count": null,
   "id": "580e71d9-703c-427f-b935-31b66febc3ff",
   "metadata": {},
   "outputs": [],
   "source": [
    "sns.histplot(customer_data['Frequency'], kde=False, bins=30)\n",
    "plt.yscale('log')  # Apply log scale to the y-axis\n",
    "\n",
    "plt.title('Customer Transaction Frequency (Log Scale)', fontsize=14)\n",
    "plt.xlabel('Number of Transactions', fontsize=12)\n",
    "plt.ylabel('Number of Customers (Log Scale)', fontsize=12)\n",
    "\n",
    "# Adding grid for readability\n",
    "plt.grid(visible=True, which='both', linestyle='--', linewidth=0.5)\n",
    "\n",
    "# Adjust figure size for reports\n",
    "plt.gcf().set_size_inches(8, 6)\n",
    "\n",
    "plt.show();\n"
   ]
  },
  {
   "cell_type": "markdown",
   "id": "aa3e17ee-3edf-44df-a20e-b3c24664e855",
   "metadata": {},
   "source": [
    "### 2. Monetary Distribution:"
   ]
  },
  {
   "cell_type": "code",
   "execution_count": null,
   "id": "3a417237-6d81-480a-9b8d-5c070a8901b1",
   "metadata": {},
   "outputs": [],
   "source": [
    "sns.histplot(customer_data['Monetary'], kde=True, bins=100)\n",
    "plt.title('Customer Monetary Value Distribution')\n",
    "plt.xlabel('Total Spend')\n",
    "plt.ylabel('Number of Customers')\n",
    "plt.show();"
   ]
  },
  {
   "cell_type": "markdown",
   "id": "b96161cb-e731-4d21-b448-ae5c2675d89a",
   "metadata": {},
   "source": [
    "### 3. Recency Analysis:"
   ]
  },
  {
   "cell_type": "code",
   "execution_count": null,
   "id": "09044dd0-0d9b-4eda-a119-2ca4a1e3c2c8",
   "metadata": {},
   "outputs": [],
   "source": [
    "most_recent_date = customer_data['LastPurchaseDate'].max() + pd.Timedelta(days=1)\n",
    "\n",
    "# 1. Define the most recent date in the dataset as the reference point\n",
    "customer_data['LastPurchaseDate'] = pd.to_datetime(customer_data['LastPurchaseDate'])\n",
    "\n",
    "# 2. Calculate recency for each customer\n",
    "customer_data['Recency'] = (most_recent_date - customer_data['LastPurchaseDate']).dt.days\n",
    "\n",
    "# 3. Plot the recency distribution\n",
    "sns.histplot(customer_data['Recency'], kde=False, bins=30, color='skyblue')\n",
    "plt.title('Customer Recency Distribution')\n",
    "plt.xlabel('Days Since Last Purchase')\n",
    "plt.ylabel('Number of Customers')\n",
    "plt.grid(visible=True, which=\"both\", linestyle='--', linewidth=0.5)\n",
    "plt.gcf().set_size_inches(8, 6)\n",
    "plt.show()"
   ]
  },
  {
   "cell_type": "code",
   "execution_count": null,
   "id": "db65adfa-e771-4d96-8499-039481866488",
   "metadata": {},
   "outputs": [],
   "source": []
  }
 ],
 "metadata": {
  "kernelspec": {
   "display_name": "Python (learn-env)",
   "language": "python",
   "name": "learn-env"
  },
  "language_info": {
   "codemirror_mode": {
    "name": "ipython",
    "version": 3
   },
   "file_extension": ".py",
   "mimetype": "text/x-python",
   "name": "python",
   "nbconvert_exporter": "python",
   "pygments_lexer": "ipython3",
   "version": "3.10.13"
  }
 },
 "nbformat": 4,
 "nbformat_minor": 5
}
